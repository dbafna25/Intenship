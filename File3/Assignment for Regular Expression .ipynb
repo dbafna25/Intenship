{
 "cells": [
  {
   "cell_type": "code",
   "execution_count": 4,
   "id": "a232d1bf",
   "metadata": {},
   "outputs": [
    {
     "name": "stdout",
     "output_type": "stream",
     "text": [
      "Hi:everyone:::today:is:the:nice:day:to:drive:my:Aircraft:310!!\n"
     ]
    }
   ],
   "source": [
    "#Q1.Write a Python program to replace all occurrences of a space, comma, or dot with a colon.\n",
    "\n",
    "import re\n",
    "text = 'Hi everyone , today is the nice day to drive my Aircraft 310!!'\n",
    "print(re.sub(\"[ ,.]\", \":\", text))"
   ]
  },
  {
   "cell_type": "code",
   "execution_count": 5,
   "id": "9b97b77f",
   "metadata": {},
   "outputs": [
    {
     "name": "stdout",
     "output_type": "stream",
     "text": [
      "['all', 'everyone', 'an', 'apple']\n"
     ]
    }
   ],
   "source": [
    "#Q2.Write a Python program to find all words starting with 'a' or 'e' in a given string.\n",
    "\n",
    "import re\n",
    "text = 'Hello all, everyone is invited to party. Also bring an apple '\n",
    "print(re.findall(r\"\\b[ae]\\w+\", text))"
   ]
  },
  {
   "cell_type": "code",
   "execution_count": 6,
   "id": "a8f2bb14",
   "metadata": {},
   "outputs": [
    {
     "name": "stdout",
     "output_type": "stream",
     "text": [
      "['Hello', 'everyone', 'invited', 'party', 'Also', 'bring', '1362', 'apples_']\n"
     ]
    }
   ],
   "source": [
    "#Q3.Create a function in python to find all words that are at least 4 characters long in a string. The use of the re.compile() method is mandatory.\n",
    "\n",
    "import re\n",
    "text ='Hello all, everyone is invited to party. Also bring a 1362 apples_. '\n",
    "x=r'\\b\\w{4,}\\b'\n",
    "pattern=re.compile(x)\n",
    "result=pattern.findall(text)\n",
    "print(result)"
   ]
  },
  {
   "cell_type": "code",
   "execution_count": 7,
   "id": "93827305",
   "metadata": {},
   "outputs": [
    {
     "name": "stdout",
     "output_type": "stream",
     "text": [
      "['Hello', 'all', 'party', 'Also', 'bring', '13621']\n"
     ]
    }
   ],
   "source": [
    "#Q4.Create a function in python to find all three, four, and five character words in a string. The use of the re.compile() method is mandatory.\n",
    "\n",
    "import re\n",
    "text ='Hello all, everyone is invited to party. Also bring a 13621 apples_. '\n",
    "x=r'\\b\\w{3,5}\\b'\n",
    "pattern=re.compile(x)\n",
    "result=pattern.findall(text)\n",
    "print(result)"
   ]
  },
  {
   "cell_type": "code",
   "execution_count": 8,
   "id": "3673ea3e",
   "metadata": {},
   "outputs": [
    {
     "name": "stdout",
     "output_type": "stream",
     "text": [
      "examplecom\n",
      "hrfliprobocom\n",
      "githubcom\n",
      "HelloDataScienceWorld\n",
      "DataScientist\n"
     ]
    }
   ],
   "source": [
    "#Q5.Create a function in Python to remove the parenthesis in a list of strings. The use of the re.compile() method is mandatory.\n",
    "# Sample Text: [\"example (.com)\", \"hr@fliprobo (.com)\", \"github (.com)\", \"Hello (Data Science World)\", \"Data (Scientist)\"]\n",
    "\n",
    "import re\n",
    "\n",
    "text =[\"example (.com)\", \"hr@fliprobo (.com)\", \"github (.com)\", \"Hello (Data Science World)\", \"Data (Scientist)\"]\n",
    "\n",
    "pattern=re.compile(\"(\\W)\")\n",
    "for i in text:\n",
    "  print(pattern.sub(\"\",i))"
   ]
  },
  {
   "cell_type": "code",
   "execution_count": 9,
   "id": "1b100a47",
   "metadata": {},
   "outputs": [
    {
     "name": "stdout",
     "output_type": "stream",
     "text": [
      "['example ', 'hr@fliprobo ', 'github ', 'Hello ', 'Data ']\n"
     ]
    }
   ],
   "source": [
    "#Q6.Write a python program to remove the parenthesis area from the text stored in the text file using Regular Expression.\n",
    "#Sample Text: [\"example (.com)\", \"hr@fliprobo (.com)\", \"github (.com)\", \"Hello (Data Science World)\", \"Data (Scientist)\"]\n",
    "\n",
    "import re\n",
    "text= [\"example (.com)\", \"hr@fliprobo (.com)\", \"github (.com)\", \"Hello (Data Science World)\", \"Data (Scientist)\"]\n",
    "x= [re.sub(r\"\\([^)]*\\)\",\"\",i) for i in text]\n",
    "print(x)"
   ]
  },
  {
   "cell_type": "code",
   "execution_count": 10,
   "id": "bc7ccd2a",
   "metadata": {},
   "outputs": [
    {
     "name": "stdout",
     "output_type": "stream",
     "text": [
      "['Importance', 'Of', 'Regular', 'Expressions', 'In', 'Python']\n"
     ]
    }
   ],
   "source": [
    "#Q7.Write a regular expression in Python to split a string into uppercase letters.\n",
    "#Sample text: “ImportanceOfRegularExpressionsInPython”\n",
    "#Expected Output: [‘Importance’, ‘Of’, ‘Regular’, ‘Expression’, ‘In’, ‘Python’]\n",
    "\n",
    "import re\n",
    "x='ImportanceOfRegularExpressionsInPython'\n",
    "y= re.findall('[A-Z][a-z]+',x)\n",
    "print(y)"
   ]
  },
  {
   "cell_type": "code",
   "execution_count": 11,
   "id": "f02d884f",
   "metadata": {},
   "outputs": [
    {
     "name": "stdout",
     "output_type": "stream",
     "text": [
      "RegularExpressio 1IsA 2ImportantTopi 3InPython\n"
     ]
    }
   ],
   "source": [
    "#Q8.Create a function in python to insert spaces between words starting with numbers.\n",
    "#Sample Text: “RegularExpression1IsAn2ImportantTopic3InPython\"\n",
    "#Expected Output: RegularExpression 1IsAn 2ImportantTopic 3InPython\n",
    "\n",
    "import re\n",
    "x='RegularExpression1IsAn2ImportantTopic3InPython'\n",
    "y= re.sub('[a-zA-Z](?=\\d)',' ',x)\n",
    "print(y)"
   ]
  },
  {
   "cell_type": "code",
   "execution_count": 12,
   "id": "256f7da5",
   "metadata": {},
   "outputs": [
    {
     "name": "stdout",
     "output_type": "stream",
     "text": [
      " Regular Expression 1 Is An 2 Important Topic 3 In Python\n"
     ]
    }
   ],
   "source": [
    "#Q9.Create a function in python to insert spaces between words starting with capital letters or with numbers.\n",
    "#Sample Text: “RegularExpression1IsAn2ImportantTopic3InPython\"\n",
    "#Expected Output:  RegularExpression 1 IsAn 2 ImportantTopic 3 InPython\n",
    "\n",
    "import re\n",
    "\n",
    "def insert_spaces(text):\n",
    "    pattern = r'([A-Z0-9][a-z]*)'\n",
    "\n",
    "   \n",
    "    result = re.sub(pattern, r' \\1', text)\n",
    "\n",
    "    return result\n",
    "\n",
    "input_text = 'RegularExpression1IsAn2ImportantTopic3InPython'\n",
    "output_text = insert_spaces(input_text)\n",
    "\n",
    "print(output_text)"
   ]
  },
  {
   "cell_type": "code",
   "execution_count": 14,
   "id": "ec34b30e",
   "metadata": {},
   "outputs": [
    {
     "name": "stdout",
     "output_type": "stream",
     "text": [
      "xyz@domain.com\n",
      "xyz.abc@sdomain.domain.com.\n",
      "hr@fliprobo.\n"
     ]
    }
   ],
   "source": [
    "#Q10.Write a python program to extract email address from the text stored in the text file using Regular Expression.\n",
    "#Sample Text- Hello my name is Data Science and my email address is xyz@domain.com and alternate email address is xyz.abc@sdomain.domain.com. \n",
    "#Please contact us at hr@fliprobo.com for further information. \n",
    "#Expected Output: \n",
    "#['xyz@domain.com', 'xyz.abc@sdomain.domain.com']\n",
    "#['hr@fliprobo.com']\n",
    "\n",
    "\n",
    "import re\n",
    "\n",
    "def extract_emails(file_path):\n",
    "    with open(file_path, 'r') as file:\n",
    "        text = file.read()\n",
    "        email_pattern = '\\S+@\\S+'\n",
    "        email_addresses = re.findall(email_pattern, text)\n",
    "        return email_addresses\n",
    "\n",
    "file_path = r'C:\\Users\\AAA\\Desktop\\ABC.txt'\n",
    "\n",
    "\n",
    "email_list = extract_emails(file_path)\n",
    "\n",
    "for email in email_list:\n",
    "    print(email)"
   ]
  },
  {
   "cell_type": "code",
   "execution_count": 15,
   "id": "847c8049",
   "metadata": {},
   "outputs": [
    {
     "name": "stdout",
     "output_type": "stream",
     "text": [
      "None\n",
      "Matched!\n"
     ]
    }
   ],
   "source": [
    "#Q11.Write a Python program to match a string that contains only upper and lowercase letters, numbers, and underscores.\n",
    "import re\n",
    "def text_match(text):\n",
    "        patterns = '^[a-zA-Z0-9_]+$'\n",
    "        if re.match(patterns,  text):\n",
    "                return 'Matched!'\n",
    "        \n",
    "print(text_match(\"The quick brown fox jumps 12A_over the lazy dog.\"))\n",
    "print(text_match(\"Python_Exercises_1\"))"
   ]
  },
  {
   "cell_type": "code",
   "execution_count": 17,
   "id": "96158d39",
   "metadata": {},
   "outputs": [
    {
     "name": "stdout",
     "output_type": "stream",
     "text": [
      "False\n",
      "True\n",
      "True\n"
     ]
    }
   ],
   "source": [
    "#Q12.Write a Python program where a string will start with a specific number. \n",
    "\n",
    "import re\n",
    "def match_num(string):\n",
    "    text = re.compile(\"^1\")\n",
    "    if text.match(string):\n",
    "        return True\n",
    "    else:\n",
    "        return False\n",
    "print(match_num('5688789'))\n",
    "print(match_num('136212'))\n",
    "print(match_num('123456789'))"
   ]
  },
  {
   "cell_type": "code",
   "execution_count": 18,
   "id": "c45a9331",
   "metadata": {},
   "outputs": [
    {
     "name": "stdout",
     "output_type": "stream",
     "text": [
      "101.50.8.500\n"
     ]
    }
   ],
   "source": [
    "#Q13.Write a Python program to remove leading zeros from an IP address\n",
    "\n",
    "import re\n",
    "ip = \"101.050.008.500\"\n",
    "x = re.sub('\\.[0]*', '.', ip)\n",
    "print(x)"
   ]
  },
  {
   "cell_type": "code",
   "execution_count": 19,
   "id": "8de20e52",
   "metadata": {},
   "outputs": [
    {
     "name": "stdout",
     "output_type": "stream",
     "text": [
      "['August 15th 1947']\n"
     ]
    }
   ],
   "source": [
    "#Q14.Write a regular expression in python to match a date string in the form of Month name followed by day number and year stored in a text file.\n",
    "#Sample text :  ' On August 15th 1947 that India was declared independent from British colonialism,and the reins of control were handed over to the leaders of the Country’.\n",
    "#Expected Output- August 15th 1947\n",
    "#Note- Store given sample text in the text file and then extract the date string asked format.\n",
    "\n",
    "import re\n",
    "\n",
    "f = open(r\"C:\\Users\\AAA\\Desktop\\DEF.txt\", \"r\")\n",
    "content = f.read()\n",
    "pattern = r'\\b(?:January|February|March|April|May|June|July|August|September|October|November|December)\\s+\\d{1,2}(?:st|nd|rd|th)?\\s+\\d{4}\\b'\n",
    "dates = re.findall(pattern, content)\n",
    "print (dates)"
   ]
  },
  {
   "cell_type": "code",
   "execution_count": 21,
   "id": "b9a6f322",
   "metadata": {},
   "outputs": [
    {
     "name": "stdout",
     "output_type": "stream",
     "text": [
      "Searching for \"fox\" in \"The quick brown fox jumps over the lazy dog.\" - Right!\n",
      "Searching for \"dog\" in \"The quick brown fox jumps over the lazy dog.\" - Right!\n",
      "Searching for \"horse\" in \"The quick brown fox jumps over the lazy dog.\" - Not Right!\n"
     ]
    }
   ],
   "source": [
    "#Q15. Write a Python program to search some literals strings in a string. \n",
    "#Sample text : 'The quick brown fox jumps over the lazy dog.'\n",
    "#Searched words : 'fox', 'dog', 'horse'\n",
    "\n",
    "import re\n",
    "\n",
    "\n",
    "patterns = ['fox', 'dog', 'horse']\n",
    "\n",
    "text = 'The quick brown fox jumps over the lazy dog.'\n",
    "\n",
    "\n",
    "for pattern in patterns:\n",
    "    if re.search(pattern, text):\n",
    "        print(f'Searching for \"{pattern}\" in \"{text}\" - Right!')\n",
    "    else:\n",
    "        print(f'Searching for \"{pattern}\" in \"{text}\" - Not Right!')"
   ]
  },
  {
   "cell_type": "code",
   "execution_count": 22,
   "id": "26a1602a",
   "metadata": {},
   "outputs": [
    {
     "name": "stdout",
     "output_type": "stream",
     "text": [
      "Found \"fox\" in \"The quick brown fox jumps over the lazy dog.\" from 16 to 19\n"
     ]
    }
   ],
   "source": [
    "#Q16.Write a Python program to search a literals string in a string and also find the location within the original string where the pattern occurs\n",
    "#Sample text : 'The quick brown fox jumps over the lazy dog.'\n",
    "#Searched words : 'fox'\n",
    "\n",
    "\n",
    "import re\n",
    "\n",
    "pattern = 'fox'\n",
    "text = 'The quick brown fox jumps over the lazy dog.'\n",
    "\n",
    "\n",
    "match = re.search(pattern, text)\n",
    "\n",
    "if match:\n",
    "   \n",
    "    start = match.start()\n",
    "    end = match.end()\n",
    "    \n",
    "    \n",
    "    print(f'Found \"{pattern}\" in \"{text}\" from {start} to {end}')\n",
    "else:\n",
    "    print(f'Pattern \"{pattern}\" not found in the text.')"
   ]
  },
  {
   "cell_type": "code",
   "execution_count": 23,
   "id": "25028934",
   "metadata": {},
   "outputs": [
    {
     "name": "stdout",
     "output_type": "stream",
     "text": [
      "Found \"exercises\"\n",
      "Found \"exercises\"\n",
      "Found \"exercises\"\n"
     ]
    }
   ],
   "source": [
    "#Q17. Write a Python program to find the substrings within a string.\n",
    "#Sample text : 'Python exercises, PHP exercises, C# exercises'\n",
    "#Pattern : 'exercises'.\n",
    "\n",
    "import re\n",
    "\n",
    "text = 'Python exercises, PHP exercises, C# exercises'\n",
    "pattern = 'exercises'\n",
    "\n",
    "for i in re.findall(pattern, text):\n",
    "    print(f'Found \"{i}\"')"
   ]
  },
  {
   "cell_type": "code",
   "execution_count": 24,
   "id": "82eca155",
   "metadata": {},
   "outputs": [
    {
     "name": "stdout",
     "output_type": "stream",
     "text": [
      "Found \"exercises\" at 7:16\n",
      "Found \"exercises\" at 22:31\n",
      "Found \"exercises\" at 36:45\n"
     ]
    }
   ],
   "source": [
    "#Q18.Write a Python program to find the occurrence and position of the substrings within a string.\n",
    "\n",
    "import re\n",
    "\n",
    "text = 'Python exercises, PHP exercises, C# exercises'\n",
    "pattern = 'exercises'\n",
    "\n",
    "for match in re.finditer(pattern, text):\n",
    "    start = match.start()\n",
    "    end = match.end()\n",
    "    print(f'Found \"{text[start:end]}\" at {start}:{end}')"
   ]
  },
  {
   "cell_type": "code",
   "execution_count": 25,
   "id": "b137399f",
   "metadata": {},
   "outputs": [
    {
     "name": "stdout",
     "output_type": "stream",
     "text": [
      "Original date: 2023-08-27\n",
      "Converted date: 2023-08-27\n"
     ]
    }
   ],
   "source": [
    "#Q19.Write a Python program to convert a date of yyyy-mm-dd format to dd-mm-yyyy format.\n",
    "import re\n",
    "\n",
    "def convert_date_format(date):\n",
    "    pattern = r'(\\d{4})(\\d{2})(\\d{2})'\n",
    "    new_date = re.sub(pattern, r'\\3-\\2-\\1', date)\n",
    "    return new_date\n",
    "\n",
    "input_date = '2023-08-27'\n",
    "converted_date = convert_date_format(input_date)\n",
    "\n",
    "print(f'Original date: {input_date}')\n",
    "print(f'Converted date: {converted_date}')"
   ]
  },
  {
   "cell_type": "code",
   "execution_count": 27,
   "id": "5e5073c7",
   "metadata": {},
   "outputs": [
    {
     "name": "stdout",
     "output_type": "stream",
     "text": [
      "['01.12', '145.8', '3.01', '27.25', '0.25']\n"
     ]
    }
   ],
   "source": [
    "#Q20.Create a function in python to find all decimal numbers with a precision of 1 or 2 in a string. The use of the re.compile() method is mandatory.\n",
    "#Sample Text: \"01.12 0132.123 2.31875 145.8 3.01 27.25 0.25\"\n",
    "#Expected Output: ['01.12', '145.8', '3.01', '27.25', '0.25']\n",
    "\n",
    "import re\n",
    "\n",
    "def find_result(text):\n",
    "\n",
    "    pattern = re.compile(r'\\b\\d+\\.\\d{1,2}\\b')\n",
    "    \n",
    "    decimal_numbers = pattern.findall(text)\n",
    "    \n",
    "    return decimal_numbers\n",
    "\n",
    "sample_text = \"01.12 0132.123 2.31875 145.8 3.01 27.25 0.25\"\n",
    "\n",
    "result = find_result(sample_text)\n",
    "\n",
    "print(result)"
   ]
  },
  {
   "cell_type": "code",
   "execution_count": 28,
   "id": "4ee7a548",
   "metadata": {},
   "outputs": [
    {
     "name": "stdout",
     "output_type": "stream",
     "text": [
      "10\n",
      "Index position: 7\n",
      "5\n",
      "Index position: 19\n",
      "70\n",
      "Index position: 48\n"
     ]
    }
   ],
   "source": [
    "#Q21.Write a Python program to separate and print the numbers and their position of a given string.\n",
    "\n",
    "import re\n",
    "\n",
    "text = \"i have 10 cars and 5 bike which worth more then 70 Lakhs.\"\n",
    "\n",
    "for m in re.finditer(\"\\d+\", text):\n",
    "    print(m.group(0))\n",
    "  \n",
    "    print(\"Index position:\", m.start())"
   ]
  },
  {
   "cell_type": "code",
   "execution_count": 30,
   "id": "8a530fde",
   "metadata": {},
   "outputs": [
    {
     "name": "stdout",
     "output_type": "stream",
     "text": [
      "Maximum numeric value: 947\n"
     ]
    }
   ],
   "source": [
    "#Q22. Write a regular expression in python program to extract maximum/largest numeric value from a string.\n",
    "#Sample Text:  'My marks in each semester are: 947, 896, 926, 524, 734, 950, 642'\n",
    "#Expected Output: 950\n",
    "\n",
    "\n",
    "import re\n",
    "\n",
    "def extract_max_numeric_value(text):\n",
    "    numbers = re.findall(r'\\d+', text)  \n",
    "    max_number = max(map(int, numbers))  \n",
    "    return max_number\n",
    "\n",
    "sample_text = 'My marks in each semester are  : 947, 896, 926, 524, 734, 457, 642'\n",
    "\n",
    "max_numeric_value = extract_max_numeric_value(sample_text)\n",
    "print(f'Maximum numeric value: {max_numeric_value}')\n",
    "\n",
    "    "
   ]
  },
  {
   "cell_type": "code",
   "execution_count": 32,
   "id": "9cc96bbf",
   "metadata": {},
   "outputs": [
    {
     "name": "stdout",
     "output_type": "stream",
     "text": [
      "Regular Expression Is An Important Topic In Python\n"
     ]
    }
   ],
   "source": [
    "#Q23.Create a function in python to insert spaces between words starting with capital letters.\n",
    "#Sample Text: “RegularExpressionIsAnImportantTopicInPython\"\n",
    "#Expected Output: Regular Expression Is An Important Topic In Python\n",
    "\n",
    "import re\n",
    "\n",
    "def capital_words_spaces(str1):\n",
    "    # Use re.sub() to insert spaces between words starting with capital letters\n",
    "    return re.sub(r\"(\\w)([A-Z])\", r\"\\1 \\2\", str1)\n",
    "\n",
    "\n",
    "print(capital_words_spaces(\"RegularExpressionIsAnImportantTopicInPython\"))"
   ]
  },
  {
   "cell_type": "code",
   "execution_count": 33,
   "id": "49b46e56",
   "metadata": {},
   "outputs": [
    {
     "name": "stdout",
     "output_type": "stream",
     "text": [
      "['Hi', 'All', 'Can', 'Meet', 'Toady']\n"
     ]
    }
   ],
   "source": [
    "#Q24. Python regex to find sequences of one upper case letter followed by lower case letters\n",
    "\n",
    "import re\n",
    "\n",
    "pattern = '[A-Z][a-z]+'\n",
    "\n",
    "text = \"Hi All, Can we Meet Toady evening.\"\n",
    "\n",
    "matches = re.findall(pattern, text)\n",
    "\n",
    "print(matches)"
   ]
  },
  {
   "cell_type": "code",
   "execution_count": 1,
   "id": "b78fcd23",
   "metadata": {},
   "outputs": [
    {
     "name": "stdout",
     "output_type": "stream",
     "text": [
      "Hello world\n"
     ]
    }
   ],
   "source": [
    "#Q25. Write a Python program to remove continuous duplicate words from Sentence using Regular Expression.\n",
    "#Sample Text: \"Hello hello world world\"\n",
    "#Expected Output: Hello hello world\n",
    "\n",
    "import re\n",
    "\n",
    "def removeDuplicate(text):\n",
    "    regex = r'\\b(\\w+)(?:\\W+\\1\\b)+' \n",
    "    return re.sub(regex, r'\\1', text, flags=re.IGNORECASE)\n",
    "\n",
    "str1 = \"Hello hello world world\"\n",
    "print(removeDuplicate(str1))"
   ]
  },
  {
   "cell_type": "code",
   "execution_count": 3,
   "id": "08b5b1ba",
   "metadata": {},
   "outputs": [
    {
     "name": "stdout",
     "output_type": "stream",
     "text": [
      "Enter a string: hi all today is 26Aug2023\n",
      "String ends with an alphanumeric character.\n"
     ]
    }
   ],
   "source": [
    "#Q26.Write a python program using RegEx to accept string ending with alphanumeric character.\n",
    "\n",
    "import re\n",
    "\n",
    "def ends_with_alphanumeric(input_str):\n",
    "    pattern = r'\\w$'\n",
    "    match = re.search(pattern, input_str)\n",
    "    if match:\n",
    "        return True\n",
    "    else:\n",
    "        return False\n",
    "\n",
    "input_string = input(\"Enter a string: \")\n",
    "\n",
    "if ends_with_alphanumeric(input_string):\n",
    "    print(\"String ends with an alphanumeric character.\")\n",
    "else:\n",
    "    print(\"String does not end with an alphanumeric character.\")\n"
   ]
  },
  {
   "cell_type": "code",
   "execution_count": 4,
   "id": "ec0c3e35",
   "metadata": {},
   "outputs": [
    {
     "name": "stdout",
     "output_type": "stream",
     "text": [
      "['#Doltiwal', '#xyzabc', '#Demonetization']\n"
     ]
    }
   ],
   "source": [
    "#Q27.Write a python program using RegEx to extract the hashtags.\n",
    "#Sample Text:  \"\"\"RT @kapil_kausik: #Doltiwal I mean #xyzabc is \"hurt\" by #Demonetization as the same has rendered USELESS <ed><U+00A0><U+00BD><ed><U+00B1><U+0089> \"acquired funds\" No wo\"\"\"\n",
    "#Expected Output: ['#Doltiwal', '#xyzabc', '#Demonetization']\n",
    "\n",
    "import re\n",
    "\n",
    "sample_text = \"\"\"RT @kapil_kausik: #Doltiwal I mean #xyzabc is \"hurt\" by #Demonetization as the same has rendered USELESS <ed><U+00A0><U+00BD><ed><U+00B1><U+0089> \"acquired funds\" No wo\"\"\"\n",
    "\n",
    "x= re.findall(r'#\\w+', sample_text)\n",
    "\n",
    "print(x)"
   ]
  },
  {
   "cell_type": "code",
   "execution_count": 5,
   "id": "3f304625",
   "metadata": {},
   "outputs": [
    {
     "name": "stdout",
     "output_type": "stream",
     "text": [
      "@Jags123456 Bharat band on 28??<ed><ed>Those who  are protesting #demonetization  are all different party leaders\n"
     ]
    }
   ],
   "source": [
    "#Q28.Write a python program using RegEx to remove <U+..> like symbols\n",
    "#Check the below sample text, there are strange symbols something of the sort <U+..> all over the place. You need to come up with a general Regex expression that will cover all such symbols.\n",
    "#Sample Text: \"@Jags123456 Bharat band on 28??<ed><U+00A0><U+00BD><ed><U+00B8><U+0082>Those who  are protesting #demonetization  are all different party leaders\"\n",
    "#Expected Output: @Jags123456 Bharat band on 28??<ed><ed>Those who  are protesting #demonetization  are all different party leaders\n",
    "\n",
    "import re\n",
    "\n",
    "sample_text = \"@Jags123456 Bharat band on 28??<ed><U+00A0><U+00BD><ed><U+00B8><U+0082>Those who  are protesting #demonetization  are all different party leaders\"\n",
    "\n",
    "result = re.sub('<U\\+\\w+>', '', sample_text)\n",
    "\n",
    "print(result)"
   ]
  },
  {
   "cell_type": "code",
   "execution_count": 7,
   "id": "e92a894b",
   "metadata": {},
   "outputs": [
    {
     "name": "stdout",
     "output_type": "stream",
     "text": [
      "dates: ['12-09-1992', '15-12-1999']\n"
     ]
    }
   ],
   "source": [
    "#Q29.Write a python program to extract dates from the text stored in the text file.\n",
    "#Sample Text: Ron was born on 12-09-1992 and he was admitted to school 15-12-1999.\n",
    "#Note- Store this sample text in the file and then extract dates.\n",
    "\n",
    "import re\n",
    "\n",
    "\n",
    "with open(r'C:\\Users\\AAA\\Desktop\\GHI.txt', 'r') as file:\n",
    "    sample_text = file.read()\n",
    "\n",
    "\n",
    "pattern = r'\\d{2}-\\d{2}-\\d{4}'\n",
    "\n",
    "\n",
    "dates = re.findall(pattern, sample_text)\n",
    "\n",
    "print(\"dates:\", dates)"
   ]
  },
  {
   "cell_type": "code",
   "execution_count": 8,
   "id": "c7851535",
   "metadata": {},
   "outputs": [
    {
     "name": "stdout",
     "output_type": "stream",
     "text": [
      " following example creates  ArrayList  a capacity   elements. 4 elements   added   ArrayList   ArrayList  trimmed accordingly.\n"
     ]
    }
   ],
   "source": [
    "#Q30.Create a function in python to remove all words from a string of length between 2 and 4.\n",
    "#The use of the re.compile() method is mandatory.\n",
    "#Sample Text: \"The following example creates an ArrayList with a capacity of 50 elements. 4 elements are then added to the ArrayList and the ArrayList is trimmed accordingly.\"\n",
    "#Expected Output:  following example creates ArrayList a capacity elements. 4 elements added ArrayList ArrayList trimmed accordingly.\n",
    "\n",
    "import re\n",
    "\n",
    "def remove_words(string):\n",
    "\n",
    "    pattern = re.compile(r'\\b\\w{2,4}\\b')\n",
    "\n",
    "    result = re.sub(pattern, '', string)\n",
    "\n",
    "    return result\n",
    "\n",
    "\n",
    "\n",
    "text = \"The following example creates an ArrayList with a capacity of 50 elements. 4 elements are then added to the ArrayList and the ArrayList is trimmed accordingly.\"\n",
    "\n",
    "output= remove_words(text)\n",
    "\n",
    "print(output)"
   ]
  },
  {
   "cell_type": "code",
   "execution_count": null,
   "id": "185da4a2",
   "metadata": {},
   "outputs": [],
   "source": []
  }
 ],
 "metadata": {
  "kernelspec": {
   "display_name": "Python 3 (ipykernel)",
   "language": "python",
   "name": "python3"
  },
  "language_info": {
   "codemirror_mode": {
    "name": "ipython",
    "version": 3
   },
   "file_extension": ".py",
   "mimetype": "text/x-python",
   "name": "python",
   "nbconvert_exporter": "python",
   "pygments_lexer": "ipython3",
   "version": "3.9.13"
  }
 },
 "nbformat": 4,
 "nbformat_minor": 5
}
